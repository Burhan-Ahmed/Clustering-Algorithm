{
  "nbformat": 4,
  "nbformat_minor": 0,
  "metadata": {
    "colab": {
      "provenance": []
    },
    "kernelspec": {
      "name": "python3",
      "display_name": "Python 3"
    },
    "language_info": {
      "name": "python"
    }
  },
  "cells": [
    {
      "cell_type": "markdown",
      "source": [
        "# Coding for CSEN 5303 Programming Assignment #1\n"
      ],
      "metadata": {
        "id": "LCB9JjUfpNsz"
      }
    },
    {
      "cell_type": "markdown",
      "source": [
        "# Importing the libraries"
      ],
      "metadata": {
        "id": "ncp5UjsBqiMw"
      }
    },
    {
      "cell_type": "code",
      "source": [
        "import pandas as pd\n",
        "from sklearn.model_selection import train_test_split, cross_val_score, GridSearchCV\n",
        "from sklearn.preprocessing import StandardScaler\n",
        "from sklearn.metrics import accuracy_score, precision_score, recall_score, f1_score, roc_auc_score\n",
        "from sklearn.tree import DecisionTreeClassifier\n",
        "from sklearn.neighbors import KNeighborsClassifier\n",
        "from sklearn.ensemble import RandomForestClassifier\n",
        "from imblearn.over_sampling import SMOTE\n",
        "import numpy as np\n",
        "from sklearn.tree import DecisionTreeClassifier\n",
        "from sklearn.neighbors import KNeighborsClassifier\n",
        "from sklearn.ensemble import RandomForestClassifier\n",
        "from sklearn.model_selection import GridSearchCV\n",
        "from sklearn.metrics import accuracy_score, precision_score, recall_score, f1_score, roc_auc_score\n",
        "from sklearn.ensemble import RandomForestClassifier\n",
        "from sklearn.model_selection import train_test_split\n",
        "from sklearn.preprocessing import StandardScaler"
      ],
      "metadata": {
        "id": "2oHoyuKoqj-D"
      },
      "execution_count": 1,
      "outputs": []
    },
    {
      "cell_type": "markdown",
      "source": [
        "# 1. Data Preparation\n",
        "- Loading the Dataset:\n",
        "  - Load the dataset using pandas.\n",
        "  - Check for missing values and handle them if necessary (e.g., imputation, removal).\n",
        "  - Feature scaling (e.g., Min-Max scaling or Standard scaling) if required.\n",
        "  - Encoding categorical variables if present (though the dataset seems to have numerical features only)."
      ],
      "metadata": {
        "id": "zKQE29ZdpRsp"
      }
    },
    {
      "cell_type": "markdown",
      "source": [
        "## Load the Dataset"
      ],
      "metadata": {
        "id": "Oo_eWku6pysw"
      }
    },
    {
      "cell_type": "code",
      "source": [
        "import pandas as pd\n",
        "\n",
        "# Path to the dataset\n",
        "file_path = '/content/uci_malware_detection.csv'\n",
        "\n",
        "# Load the dataset into a pandas DataFrame\n",
        "malware_data = pd.read_csv(file_path)\n",
        "\n",
        "# Display the first few rows of the DataFrame to ensure it's loaded correctly\n",
        "print(malware_data.head())\n",
        "\n",
        "# Display basic information about the dataset\n",
        "print(malware_data.info())\n"
      ],
      "metadata": {
        "colab": {
          "base_uri": "https://localhost:8080/",
          "height": 0
        },
        "id": "NU6bTRC1qnt8",
        "outputId": "434572b7-157d-48b2-c69f-9472d52aaa26"
      },
      "execution_count": 2,
      "outputs": [
        {
          "output_type": "stream",
          "name": "stdout",
          "text": [
            "           Label  F_1  F_2  F_3  F_4  F_5  F_6  F_7  F_8  F_9  ...  F_522  \\\n",
            "0  non-malicious    1    0    1    0    1    0    1    0    1  ...      0   \n",
            "1  non-malicious    1    0    1    0    1    0    1    0    1  ...      0   \n",
            "2  non-malicious    1    0    1    0    1    0    1    0    1  ...      0   \n",
            "3  non-malicious    1    0    1    0    1    0    1    0    1  ...      0   \n",
            "4  non-malicious    1    0    1    0    1    0    1    0    1  ...      0   \n",
            "\n",
            "   F_523  F_524  F_525  F_526  F_527  F_528  F_529  F_530  F_531  \n",
            "0      0      0      0      0      0      0      0      0      0  \n",
            "1      0      0      0      0      0      0      0      0      0  \n",
            "2      0      0      0      0      0      0      0      0      0  \n",
            "3      0      0      0      0      0      0      0      0      0  \n",
            "4      0      0      0      0      0      0      0      0      0  \n",
            "\n",
            "[5 rows x 532 columns]\n",
            "<class 'pandas.core.frame.DataFrame'>\n",
            "RangeIndex: 373 entries, 0 to 372\n",
            "Columns: 532 entries, Label to F_531\n",
            "dtypes: int64(531), object(1)\n",
            "memory usage: 1.5+ MB\n",
            "None\n"
          ]
        }
      ]
    },
    {
      "cell_type": "markdown",
      "source": [
        "# Checking for the Null Values"
      ],
      "metadata": {
        "id": "1-gwjw56rchT"
      }
    },
    {
      "cell_type": "code",
      "source": [
        "# Check for missing values\n",
        "missing_values = malware_data.isnull().sum()\n",
        "\n",
        "# Display columns with missing values\n",
        "print(\"\\nMissing values in each column:\")\n",
        "print(missing_values[missing_values > 0])"
      ],
      "metadata": {
        "colab": {
          "base_uri": "https://localhost:8080/",
          "height": 0
        },
        "id": "Tde5PiBVrfkn",
        "outputId": "4ce2b529-d09c-43aa-aaaa-506200be6b43"
      },
      "execution_count": 3,
      "outputs": [
        {
          "output_type": "stream",
          "name": "stdout",
          "text": [
            "\n",
            "Missing values in each column:\n",
            "Series([], dtype: int64)\n"
          ]
        }
      ]
    },
    {
      "cell_type": "markdown",
      "source": [
        "# Handling missing values\n"
      ],
      "metadata": {
        "id": "QJEv8HBqt6v9"
      }
    },
    {
      "cell_type": "code",
      "source": [
        "# Remove rows with missing values\n",
        "malware_data_dropped = malware_data.dropna()\n",
        "\n",
        "# Display information after handling missing values\n",
        "print(\"\\nDataFrame after removing rows with missing values:\")\n",
        "print(malware_data_dropped.info())"
      ],
      "metadata": {
        "colab": {
          "base_uri": "https://localhost:8080/",
          "height": 0
        },
        "id": "XlFsBAybrynA",
        "outputId": "38f8a322-6568-4939-b8bc-7fdac076a342"
      },
      "execution_count": 4,
      "outputs": [
        {
          "output_type": "stream",
          "name": "stdout",
          "text": [
            "\n",
            "DataFrame after removing rows with missing values:\n",
            "<class 'pandas.core.frame.DataFrame'>\n",
            "RangeIndex: 373 entries, 0 to 372\n",
            "Columns: 532 entries, Label to F_531\n",
            "dtypes: int64(531), object(1)\n",
            "memory usage: 1.5+ MB\n",
            "None\n"
          ]
        }
      ]
    },
    {
      "cell_type": "markdown",
      "source": [
        "# Data Preprocessing"
      ],
      "metadata": {
        "id": "Gd5wnbhiuPMe"
      }
    },
    {
      "cell_type": "code",
      "source": [
        "from sklearn.preprocessing import LabelEncoder\n",
        "\n",
        "# Identify categorical columns\n",
        "categorical_columns = malware_data.select_dtypes(include=['object']).columns\n",
        "\n",
        "# Apply Label Encoding to all categorical columns\n",
        "label_encoders = {}\n",
        "for col in categorical_columns:\n",
        "    le = LabelEncoder()\n",
        "    malware_data[col] = le.fit_transform(malware_data[col])\n",
        "    label_encoders[col] = le  # Save the encoder for future use (if needed)\n",
        "\n",
        "# Display the first few rows after label encoding\n",
        "print(\"\\nFirst few rows after label encoding:\")\n",
        "print(malware_data.head())\n",
        "\n",
        "# Display the final DataFrame information\n",
        "print(\"\\nFinal DataFrame information:\")\n",
        "print(malware_data.info())"
      ],
      "metadata": {
        "colab": {
          "base_uri": "https://localhost:8080/",
          "height": 0
        },
        "id": "sAARnHR6uQas",
        "outputId": "6ff9126d-c80b-467b-bb94-15acdd11e80d"
      },
      "execution_count": 5,
      "outputs": [
        {
          "output_type": "stream",
          "name": "stdout",
          "text": [
            "\n",
            "First few rows after label encoding:\n",
            "   Label  F_1  F_2  F_3  F_4  F_5  F_6  F_7  F_8  F_9  ...  F_522  F_523  \\\n",
            "0      1    1    0    1    0    1    0    1    0    1  ...      0      0   \n",
            "1      1    1    0    1    0    1    0    1    0    1  ...      0      0   \n",
            "2      1    1    0    1    0    1    0    1    0    1  ...      0      0   \n",
            "3      1    1    0    1    0    1    0    1    0    1  ...      0      0   \n",
            "4      1    1    0    1    0    1    0    1    0    1  ...      0      0   \n",
            "\n",
            "   F_524  F_525  F_526  F_527  F_528  F_529  F_530  F_531  \n",
            "0      0      0      0      0      0      0      0      0  \n",
            "1      0      0      0      0      0      0      0      0  \n",
            "2      0      0      0      0      0      0      0      0  \n",
            "3      0      0      0      0      0      0      0      0  \n",
            "4      0      0      0      0      0      0      0      0  \n",
            "\n",
            "[5 rows x 532 columns]\n",
            "\n",
            "Final DataFrame information:\n",
            "<class 'pandas.core.frame.DataFrame'>\n",
            "RangeIndex: 373 entries, 0 to 372\n",
            "Columns: 532 entries, Label to F_531\n",
            "dtypes: int64(532)\n",
            "memory usage: 1.5 MB\n",
            "None\n"
          ]
        }
      ]
    },
    {
      "cell_type": "markdown",
      "source": [
        "# 2. Data Augmentation/Synthetic Data Generation\n",
        "- Addressing Class Imbalance:\n",
        "  - Use SMOTE (Synthetic Minority Over-sampling Technique) to balance the dataset.\n"
      ],
      "metadata": {
        "id": "n-rAfdlsp5q5"
      }
    },
    {
      "cell_type": "markdown",
      "source": [
        "# Check for Class Distribution"
      ],
      "metadata": {
        "id": "qQQaP0twvPue"
      }
    },
    {
      "cell_type": "code",
      "execution_count": 6,
      "metadata": {
        "colab": {
          "base_uri": "https://localhost:8080/",
          "height": 571
        },
        "id": "3YrLwOQ3oiRO",
        "outputId": "cdf3291a-6427-4709-93ac-0cef41eabe20"
      },
      "outputs": [
        {
          "output_type": "stream",
          "name": "stdout",
          "text": [
            "\n",
            "Distribution of classes in the Label column:\n",
            "Label\n",
            "0    301\n",
            "1     72\n",
            "Name: count, dtype: int64\n"
          ]
        },
        {
          "output_type": "display_data",
          "data": {
            "text/plain": [
              "<Figure size 640x480 with 1 Axes>"
            ],
            "image/png": "[encoded data removed]"
          },
          "metadata": {}
        }
      ],
      "source": [
        "# Check for the distribution of classes in the label column\n",
        "class_distribution = malware_data['Label'].value_counts()\n",
        "\n",
        "print(\"\\nDistribution of classes in the Label column:\")\n",
        "print(class_distribution)\n",
        "\n",
        "# plot the distribution for a better visual understanding\n",
        "import matplotlib.pyplot as plt\n",
        "\n",
        "class_distribution.plot(kind='bar')\n",
        "plt.title('Distribution of Classes in the Label Column')\n",
        "plt.xlabel('Class')\n",
        "plt.ylabel('Frequency')\n",
        "plt.show()"
      ]
    },
    {
      "cell_type": "markdown",
      "source": [
        "# SMOTE For balancing the data"
      ],
      "metadata": {
        "id": "jLzIL8IAvZan"
      }
    },
    {
      "cell_type": "code",
      "source": [
        "# Separate features and labels\n",
        "X = malware_data.drop('Label', axis=1)\n",
        "y = malware_data['Label']\n",
        "\n",
        "# Apply SMOTE to balance the dataset\n",
        "smote = SMOTE(random_state=42)\n",
        "X_resampled, y_resampled = smote.fit_resample(X, y)\n",
        "\n",
        "# Check the new distribution of classes\n",
        "resampled_class_distribution = pd.Series(y_resampled).value_counts()\n",
        "print(\"\\nDistribution of classes after applying SMOTE:\")\n",
        "print(resampled_class_distribution)\n",
        "\n",
        "# Plot the new distribution\n",
        "resampled_class_distribution.plot(kind='bar')\n",
        "plt.title('Distribution of Classes after Applying SMOTE')\n",
        "plt.xlabel('Class')\n",
        "plt.ylabel('Frequency')\n",
        "plt.show()"
      ],
      "metadata": {
        "colab": {
          "base_uri": "https://localhost:8080/",
          "height": 571
        },
        "id": "8yq-2hcSvb4U",
        "outputId": "d3786222-7a91-472d-eb9b-d5d4767c3fca"
      },
      "execution_count": 7,
      "outputs": [
        {
          "output_type": "stream",
          "name": "stdout",
          "text": [
            "\n",
            "Distribution of classes after applying SMOTE:\n",
            "Label\n",
            "1    301\n",
            "0    301\n",
            "Name: count, dtype: int64\n"
          ]
        },
        {
          "output_type": "display_data",
          "data": {
            "text/plain": [
              "<Figure size 640x480 with 1 Axes>"
            ],
            "image/png": "[encoded data removed]"
          },
          "metadata": {}
        }
      ]
    },
    {
      "cell_type": "markdown",
      "source": [
        "# 3. Feature Selection\n",
        "- Selecting Relevant Features:\n",
        "  - Apply feature selection techniques such as:\n",
        "    - Feature importance from models (e.g., Random Forest)\n"
      ],
      "metadata": {
        "id": "VDozwtLRp_tI"
      }
    },
    {
      "cell_type": "code",
      "source": [
        "# Split the resampled data into training and testing sets\n",
        "X_train, X_test, y_train, y_test = train_test_split(X_resampled, y_resampled, test_size=0.2, random_state=42)\n",
        "\n",
        "# Initialize and fit the Random Forest model\n",
        "rf_model = RandomForestClassifier(random_state=42)\n",
        "rf_model.fit(X_train, y_train)\n",
        "\n",
        "# Get feature importances from the Random Forest model\n",
        "importances = rf_model.feature_importances_\n",
        "\n",
        "# Sort the feature importances in descending order\n",
        "indices = np.argsort(importances)[::-1]\n",
        "\n",
        "# Print the feature ranking\n",
        "print(\"Top 20 Feature ranking:\")\n",
        "for i in range(20):\n",
        "    print(f\"{i + 1}. Feature {indices[i] + 1} ({importances[indices[i]]})\")\n",
        "\n",
        "# Plot the top 20 feature importances\n",
        "plt.figure(figsize=(12, 6))\n",
        "plt.title(\"Top 20 Feature Importances\")\n",
        "plt.bar(range(20), importances[indices[:20]], align='center')\n",
        "plt.xticks(range(20), indices[:20] + 1)\n",
        "plt.xlabel(\"Feature Index\")\n",
        "plt.ylabel(\"Importance\")\n",
        "plt.show()\n",
        "\n",
        "# Select the top 20 important features\n",
        "selected_features = indices[:20]\n",
        "X_train_selected = X_train.iloc[:, selected_features]\n",
        "X_test_selected = X_test.iloc[:, selected_features]\n",
        "\n",
        "# Display the first few rows of the selected features\n",
        "print(\"\\nFirst few rows of the selected features in the training set:\")\n",
        "print(X_train_selected.head())"
      ],
      "metadata": {
        "colab": {
          "base_uri": "https://localhost:8080/",
          "height": 1189
        },
        "id": "8fnV49GBqFsr",
        "outputId": "f2c60417-2cc8-467a-c692-54356b9bd6c6"
      },
      "execution_count": 8,
      "outputs": [
        {
          "output_type": "stream",
          "name": "stdout",
          "text": [
            "Top 20 Feature ranking:\n",
            "1. Feature 139 (0.06917079891068065)\n",
            "2. Feature 20 (0.05818297914220522)\n",
            "3. Feature 51 (0.056186046696364095)\n",
            "4. Feature 19 (0.05336314729000359)\n",
            "5. Feature 162 (0.03780496967574564)\n",
            "6. Feature 67 (0.03725522017852733)\n",
            "7. Feature 435 (0.02936035350992269)\n",
            "8. Feature 179 (0.028435864992714825)\n",
            "9. Feature 385 (0.02668082459068385)\n",
            "10. Feature 66 (0.023654529352632986)\n",
            "11. Feature 113 (0.02269834329257331)\n",
            "12. Feature 530 (0.019596703035902316)\n",
            "13. Feature 140 (0.019180915473335756)\n",
            "14. Feature 30 (0.018574377957987546)\n",
            "15. Feature 182 (0.017937822623770208)\n",
            "16. Feature 320 (0.016126847342316675)\n",
            "17. Feature 334 (0.01610311696402503)\n",
            "18. Feature 49 (0.016018477233555272)\n",
            "19. Feature 69 (0.014614620666462954)\n",
            "20. Feature 26 (0.014388067484600763)\n"
          ]
        },
        {
          "output_type": "display_data",
          "data": {
            "text/plain": [
              "<Figure size 1200x600 with 1 Axes>"
            ],
            "image/png": "[encoded data removed]"
          },
          "metadata": {}
        },
        {
          "output_type": "stream",
          "name": "stdout",
          "text": [
            "\n",
            "First few rows of the selected features in the training set:\n",
            "     F_139  F_20  F_51  F_19  F_162  F_67  F_435  F_179  F_385  F_66  F_113  \\\n",
            "9        0     0     0     1      0     0      1      0      0     1      0   \n",
            "375      0     0     0     1      0     0      1      1      0     1      1   \n",
            "524      0     0     0     1      0     1      0      0      0     0      1   \n",
            "188      1     1     1     0      1     1      1      1      1     0      0   \n",
            "131      1     1     1     0      1     1      1      1      1     0      0   \n",
            "\n",
            "     F_530  F_140  F_30  F_182  F_320  F_334  F_49  F_69  F_26  \n",
            "9        0      1     0      0      0      0     0     1     1  \n",
            "375      0      1     0      0      1      0     0     1     0  \n",
            "524      0      1     1      0      0      0     0     0     1  \n",
            "188      1      0     1      1      1      1     1     0     1  \n",
            "131      1      0     1      1      1      1     1     0     1  \n"
          ]
        }
      ]
    },
    {
      "cell_type": "markdown",
      "source": [
        "# 4. Machine Learning Models Implementation\n",
        "- Model Selection and Implementation:\n",
        "  - Choose three models from the following: Decision Tree (DT), k-Nearest Neighbors (KNN), Random Forest (RF), Support Vector Machine (SVM), XGBoost (XGB), AdaBoost.\n",
        "  - Implement these models using Python libraries like Scikit-learn.\n",
        "  Use appropriate model parameters and hyperparameter tuning (e.g., GridSearchCV or RandomizedSearchCV)."
      ],
      "metadata": {
        "id": "F6d_93U2qHN-"
      }
    },
    {
      "cell_type": "code",
      "source": [
        "\n",
        "# Model 1: Decision Tree Classifier\n",
        "dt_classifier = DecisionTreeClassifier(random_state=42)\n",
        "\n",
        "# Define the parameter grid for GridSearchCV\n",
        "dt_param_grid = {\n",
        "    'criterion': ['gini', 'entropy'],\n",
        "    'max_depth': [None, 10, 20, 30, 40, 50],\n",
        "    'min_samples_split': [2, 5, 10],\n",
        "    'min_samples_leaf': [1, 2, 4]\n",
        "}\n",
        "\n",
        "# Perform GridSearchCV to find the best parameters\n",
        "dt_grid_search = GridSearchCV(dt_classifier, dt_param_grid, scoring='accuracy', cv=5, verbose=1)\n",
        "dt_grid_search.fit(X_train, y_train)\n",
        "\n",
        "# Print the best parameters and best score\n",
        "print(\"Best parameters for Decision Tree:\", dt_grid_search.best_params_)\n",
        "print(\"Best cross-validation score (accuracy) for Decision Tree:\", dt_grid_search.best_score_)\n",
        "\n",
        "# Use the best model to make predictions\n",
        "dt_best_model = dt_grid_search.best_estimator_\n",
        "dt_predictions = dt_best_model.predict(X_test)\n",
        "\n",
        "# Evaluate the model performance on the test set\n",
        "print(\"\\nDecision Tree Classifier Performance:\")\n",
        "print(\"Accuracy:\", accuracy_score(y_test, dt_predictions))\n",
        "print(\"Precision:\", precision_score(y_test, dt_predictions))\n",
        "print(\"Recall:\", recall_score(y_test, dt_predictions))\n",
        "print(\"F1 Score:\", f1_score(y_test, dt_predictions))\n",
        "print(\"ROC-AUC Score:\", roc_auc_score(y_test, dt_best_model.predict_proba(X_test)[:, 1]))\n",
        "\n",
        "# Model 2: k-Nearest Neighbors Classifier\n",
        "knn_classifier = KNeighborsClassifier()\n",
        "\n",
        "# Define the parameter grid for GridSearchCV\n",
        "knn_param_grid = {\n",
        "    'n_neighbors': [3, 5, 7, 9],\n",
        "    'weights': ['uniform', 'distance'],\n",
        "    'metric': ['euclidean', 'manhattan']\n",
        "}\n",
        "\n",
        "# Perform GridSearchCV to find the best parameters\n",
        "knn_grid_search = GridSearchCV(knn_classifier, knn_param_grid, scoring='accuracy', cv=5, verbose=1)\n",
        "knn_grid_search.fit(X_train, y_train)\n",
        "\n",
        "# Print the best parameters and best score\n",
        "print(\"\\nBest parameters for k-Nearest Neighbors:\", knn_grid_search.best_params_)\n",
        "print(\"Best cross-validation score (accuracy) for k-Nearest Neighbors:\", knn_grid_search.best_score_)\n",
        "\n",
        "# Use the best model to make predictions\n",
        "knn_best_model = knn_grid_search.best_estimator_\n",
        "knn_predictions = knn_best_model.predict(X_test)\n",
        "\n",
        "# Evaluate the model performance on the test set\n",
        "print(\"\\nk-Nearest Neighbors Classifier Performance:\")\n",
        "print(\"Accuracy:\", accuracy_score(y_test, knn_predictions))\n",
        "print(\"Precision:\", precision_score(y_test, knn_predictions))\n",
        "print(\"Recall:\", recall_score(y_test, knn_predictions))\n",
        "print(\"F1 Score:\", f1_score(y_test, knn_predictions))\n",
        "print(\"ROC-AUC Score:\", roc_auc_score(y_test, knn_best_model.predict_proba(X_test)[:, 1]))\n",
        "\n",
        "# Model 3: Random Forest Classifier\n",
        "rf_classifier = RandomForestClassifier(random_state=42)\n",
        "\n",
        "# Define the parameter grid for GridSearchCV\n",
        "rf_param_grid = {\n",
        "    'n_estimators': [100, 200, 300],\n",
        "    'criterion': ['gini', 'entropy'],\n",
        "    'max_depth': [None, 10, 20, 30],\n",
        "    'min_samples_split': [2, 5, 10],\n",
        "    'min_samples_leaf': [1, 2, 4]\n",
        "}\n",
        "\n",
        "# Perform GridSearchCV to find the best parameters\n",
        "rf_grid_search = GridSearchCV(rf_classifier, rf_param_grid, scoring='accuracy', cv=5, verbose=1, n_jobs=-1)\n",
        "rf_grid_search.fit(X_train, y_train)\n",
        "\n",
        "# Print the best parameters and best score\n",
        "print(\"\\nBest parameters for Random Forest:\", rf_grid_search.best_params_)\n",
        "print(\"Best cross-validation score (accuracy) for Random Forest:\", rf_grid_search.best_score_)\n",
        "\n",
        "# Use the best model to make predictions\n",
        "rf_best_model = rf_grid_search.best_estimator_\n",
        "rf_predictions = rf_best_model.predict(X_test)\n",
        "\n",
        "# Evaluate the model performance on the test set\n",
        "print(\"\\nRandom Forest Classifier Performance:\")\n",
        "print(\"Accuracy:\", accuracy_score(y_test, rf_predictions))\n",
        "print(\"Precision:\", precision_score(y_test, rf_predictions))\n",
        "print(\"Recall:\", recall_score(y_test, rf_predictions))\n",
        "print(\"F1 Score:\", f1_score(y_test, rf_predictions))\n",
        "print(\"ROC-AUC Score:\", roc_auc_score(y_test, rf_best_model.predict_proba(X_test)[:, 1]))"
      ],
      "metadata": {
        "colab": {
          "base_uri": "https://localhost:8080/",
          "height": 0
        },
        "id": "wTKysXMkqM6l",
        "outputId": "ec634214-2a6a-49bc-bfec-9c5d1646cedb"
      },
      "execution_count": 9,
      "outputs": [
        {
          "output_type": "stream",
          "name": "stdout",
          "text": [
            "Fitting 5 folds for each of 108 candidates, totalling 540 fits\n",
            "Best parameters for Decision Tree: {'criterion': 'entropy', 'max_depth': None, 'min_samples_leaf': 4, 'min_samples_split': 2}\n",
            "Best cross-validation score (accuracy) for Decision Tree: 0.9979166666666668\n",
            "\n",
            "Decision Tree Classifier Performance:\n",
            "Accuracy: 0.9917355371900827\n",
            "Precision: 0.9821428571428571\n",
            "Recall: 1.0\n",
            "F1 Score: 0.9909909909909909\n",
            "ROC-AUC Score: 0.9924242424242424\n",
            "Fitting 5 folds for each of 16 candidates, totalling 80 fits\n",
            "\n",
            "Best parameters for k-Nearest Neighbors: {'metric': 'euclidean', 'n_neighbors': 3, 'weights': 'uniform'}\n",
            "Best cross-validation score (accuracy) for k-Nearest Neighbors: 1.0\n",
            "\n",
            "k-Nearest Neighbors Classifier Performance:\n",
            "Accuracy: 0.9917355371900827\n",
            "Precision: 0.9821428571428571\n",
            "Recall: 1.0\n",
            "F1 Score: 0.9909909909909909\n",
            "ROC-AUC Score: 0.9924242424242424\n",
            "Fitting 5 folds for each of 216 candidates, totalling 1080 fits\n",
            "\n",
            "Best parameters for Random Forest: {'criterion': 'gini', 'max_depth': None, 'min_samples_leaf': 1, 'min_samples_split': 2, 'n_estimators': 100}\n",
            "Best cross-validation score (accuracy) for Random Forest: 0.9979166666666668\n",
            "\n",
            "Random Forest Classifier Performance:\n",
            "Accuracy: 0.9917355371900827\n",
            "Precision: 0.9821428571428571\n",
            "Recall: 1.0\n",
            "F1 Score: 0.9909909909909909\n",
            "ROC-AUC Score: 0.9910468319559228\n"
          ]
        }
      ]
    },
    {
      "cell_type": "markdown",
      "source": [
        "# 5. Model Evaluation:\n",
        " - Evaluate each model using 5-fold Cross Validation on the following performance\n",
        "metrics:\n",
        "  - Accuracy\n",
        "  - Precision\n",
        "  - Recall\n",
        "  - F1 Score\n",
        "  - ROC-AUC Score\n",
        " - Use cross-validation to ensure the reliability of your results.\n"
      ],
      "metadata": {
        "id": "YNk0pJDmzi0H"
      }
    },
    {
      "cell_type": "code",
      "source": [
        "from sklearn.metrics import accuracy_score, precision_score, recall_score, f1_score, roc_auc_score\n",
        "import numpy as np\n",
        "\n",
        "# Define the list of models and their best estimators\n",
        "models = {\n",
        "    'Decision Tree': dt_best_model,\n",
        "    'k-Nearest Neighbors': knn_best_model,\n",
        "    'Random Forest': rf_best_model\n",
        "}\n",
        "\n",
        "# Define a function to calculate evaluation metrics including ROC-AUC\n",
        "def evaluate_model(model, X_train, y_train, X_test, y_test):\n",
        "    # Train the model on the training data\n",
        "    model.fit(X_train, y_train)\n",
        "\n",
        "    # Predict on the test data\n",
        "    y_pred = model.predict(X_test)\n",
        "    y_pred_proba = model.predict_proba(X_test)[:, 1]  # Probability for positive class\n",
        "\n",
        "    # Calculate evaluation metrics\n",
        "    accuracy = accuracy_score(y_test, y_pred)\n",
        "    precision = precision_score(y_test, y_pred)\n",
        "    recall = recall_score(y_test, y_pred)\n",
        "    f1 = f1_score(y_test, y_pred)\n",
        "    roc_auc = roc_auc_score(y_test, y_pred_proba)\n",
        "\n",
        "    return accuracy, precision, recall, f1, roc_auc\n",
        "\n",
        "# Evaluate each model using a separate test set approach\n",
        "evaluation_results = {}\n",
        "\n",
        "for model_name, model in models.items():\n",
        "    print(f\"\\nEvaluating {model_name} Model...\")\n",
        "\n",
        "    # Evaluate the model\n",
        "    accuracy, precision, recall, f1, roc_auc = evaluate_model(model, X_train, y_train, X_test, y_test)\n",
        "\n",
        "    # Store the evaluation results\n",
        "    evaluation_results[model_name] = {\n",
        "        'Accuracy': accuracy,\n",
        "        'Precision': precision,\n",
        "        'Recall': recall,\n",
        "        'F1 Score': f1,\n",
        "        'ROC-AUC Score': roc_auc\n",
        "    }\n",
        "\n",
        "    # Print the evaluation results for the model\n",
        "    print(\"Accuracy:\", accuracy)\n",
        "    print(\"Precision:\", precision)\n",
        "    print(\"Recall:\", recall)\n",
        "    print(\"F1 Score:\", f1)\n",
        "    print(\"ROC-AUC Score:\", roc_auc)\n",
        "\n",
        "# Print the final evaluation results\n",
        "print(\"\\nFinal Evaluation Results:\")\n",
        "for model_name, scores in evaluation_results.items():\n",
        "    print(f\"\\n{model_name} Model:\")\n",
        "    print(\"Accuracy:\", scores['Accuracy'])\n",
        "    print(\"Precision:\", scores['Precision'])\n",
        "    print(\"Recall:\", scores['Recall'])\n",
        "    print(\"F1 Score:\", scores['F1 Score'])\n",
        "    print(\"ROC-AUC Score:\", scores['ROC-AUC Score'])\n"
      ],
      "metadata": {
        "colab": {
          "base_uri": "https://localhost:8080/",
          "height": 0
        },
        "id": "zMi6vuKFzOzc",
        "outputId": "85828a7c-2ffe-4b0c-966c-d93e21f434e2"
      },
      "execution_count": 10,
      "outputs": [
        {
          "output_type": "stream",
          "name": "stdout",
          "text": [
            "\n",
            "Evaluating Decision Tree Model...\n",
            "Accuracy: 0.9917355371900827\n",
            "Precision: 0.9821428571428571\n",
            "Recall: 1.0\n",
            "F1 Score: 0.9909909909909909\n",
            "ROC-AUC Score: 0.9924242424242424\n",
            "\n",
            "Evaluating k-Nearest Neighbors Model...\n",
            "Accuracy: 0.9917355371900827\n",
            "Precision: 0.9821428571428571\n",
            "Recall: 1.0\n",
            "F1 Score: 0.9909909909909909\n",
            "ROC-AUC Score: 0.9924242424242424\n",
            "\n",
            "Evaluating Random Forest Model...\n",
            "Accuracy: 0.9917355371900827\n",
            "Precision: 0.9821428571428571\n",
            "Recall: 1.0\n",
            "F1 Score: 0.9909909909909909\n",
            "ROC-AUC Score: 0.9910468319559228\n",
            "\n",
            "Final Evaluation Results:\n",
            "\n",
            "Decision Tree Model:\n",
            "Accuracy: 0.9917355371900827\n",
            "Precision: 0.9821428571428571\n",
            "Recall: 1.0\n",
            "F1 Score: 0.9909909909909909\n",
            "ROC-AUC Score: 0.9924242424242424\n",
            "\n",
            "k-Nearest Neighbors Model:\n",
            "Accuracy: 0.9917355371900827\n",
            "Precision: 0.9821428571428571\n",
            "Recall: 1.0\n",
            "F1 Score: 0.9909909909909909\n",
            "ROC-AUC Score: 0.9924242424242424\n",
            "\n",
            "Random Forest Model:\n",
            "Accuracy: 0.9917355371900827\n",
            "Precision: 0.9821428571428571\n",
            "Recall: 1.0\n",
            "F1 Score: 0.9909909909909909\n",
            "ROC-AUC Score: 0.9910468319559228\n"
          ]
        }
      ]
    },
    {
      "cell_type": "markdown",
      "source": [
        "# 6. Comparison and Analysis\n",
        "- Comparative Analysis:\n",
        "  - Compare the models based on their performance metrics.\n",
        "  - Discuss the strengths and weaknesses of each model in the context of malware detection.\n",
        "  - Provide insights into the challenges faced while applying machine learning to cybersecurity."
      ],
      "metadata": {
        "id": "wrwTGsKsqbMs"
      }
    },
    {
      "cell_type": "code",
      "source": [
        "import matplotlib.pyplot as plt\n",
        "import numpy as np\n",
        "\n",
        "# Define the metrics and corresponding scores\n",
        "metrics = ['Accuracy', 'Precision', 'Recall', 'F1 Score', 'ROC-AUC Score']\n",
        "decision_tree_scores = [0.9917355371900827, 0.9821428571428571, 1.0, 0.9909909909909909, 0.9924242424242424]\n",
        "knn_scores = [0.9917355371900827, 0.9821428571428571, 1.0, 0.9909909909909909, 0.9924242424242424]\n",
        "random_forest_scores = [0.9917355371900827, 0.9821428571428571, 1.0, 0.9909909909909909, 0.9910468319559228]\n",
        "\n",
        "# Set the width of the bars\n",
        "bar_width = 0.25\n",
        "\n",
        "# Set the position of the bars on the x-axis\n",
        "r1 = np.arange(len(metrics))\n",
        "r2 = [x + bar_width for x in r1]\n",
        "r3 = [x + bar_width for x in r2]\n",
        "\n",
        "# Create the figure and axes\n",
        "plt.figure(figsize=(18, 4))\n",
        "\n",
        "# Plot bars\n",
        "plt.bar(r1, decision_tree_scores, color='b', width=bar_width, edgecolor='grey', label='Decision Tree')\n",
        "plt.bar(r2, knn_scores, color='g', width=bar_width, edgecolor='grey', label='k-Nearest Neighbors')\n",
        "plt.bar(r3, random_forest_scores, color='r', width=bar_width, edgecolor='grey', label='Random Forest')\n",
        "\n",
        "# Add xticks on the middle of the group bars\n",
        "plt.xlabel('Metrics', fontweight='bold')\n",
        "plt.xticks([r + bar_width for r in range(len(metrics))], metrics)\n",
        "\n",
        "# Create legend & title\n",
        "plt.title('Model Evaluation Scores')\n",
        "plt.legend()\n",
        "\n",
        "# Add labels above each bar\n",
        "for i in range(len(metrics)):\n",
        "    plt.text(r1[i], decision_tree_scores[i] + 0.01, f'{decision_tree_scores[i]:.3f}', ha='center', va='bottom', color='black', fontsize=9)\n",
        "    plt.text(r2[i], knn_scores[i] + 0.01, f'{knn_scores[i]:.3f}', ha='center', va='bottom', color='black', fontsize=9)\n",
        "    plt.text(r3[i], random_forest_scores[i] + 0.01, f'{random_forest_scores[i]:.3f}', ha='center', va='bottom', color='black', fontsize=9)\n",
        "\n",
        "# Show graphic\n",
        "plt.tight_layout()\n",
        "plt.show()"
      ],
      "metadata": {
        "colab": {
          "base_uri": "https://localhost:8080/",
          "height": 317
        },
        "id": "Wy_H2auTqe0w",
        "outputId": "0bc233b8-e092-4cb2-9026-cd5c3bc3c6bc"
      },
      "execution_count": 11,
      "outputs": [
        {
          "output_type": "display_data",
          "data": {
            "text/plain": [
              "<Figure size 1800x400 with 1 Axes>"
            ],
            "image/png": "[encoded data removed]"
          },
          "metadata": {}
        }
      ]
    },
    {
      "cell_type": "code",
      "source": [],
      "metadata": {
        "id": "3rTuWy8U0u7T"
      },
      "execution_count": 11,
      "outputs": []
    }
  ]
}